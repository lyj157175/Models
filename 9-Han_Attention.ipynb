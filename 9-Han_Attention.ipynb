{
 "cells": [
  {
   "cell_type": "code",
   "execution_count": 59,
   "metadata": {},
   "outputs": [],
   "source": [
    "import torch\n",
    "import torch.nn as nn\n",
    "import numpy as np\n",
    "from torch.nn import functional as F\n",
    "from torch.autograd import Variable"
   ]
  },
  {
   "cell_type": "code",
   "execution_count": 60,
   "metadata": {},
   "outputs": [],
   "source": [
    "class HAN_Model(nn.Module):\n",
    "    def __init__(self, vocab_size=3000, embedding_size=200, gru_size=50, class_num=4, \n",
    "                 is_pretrain=False, weights=None):\n",
    "        super(HAN_Model, self).__init__()\n",
    "        if is_pretrain:\n",
    "            self.embedding = nn.Embedding.from_pretrained(weights, freeze=False)\n",
    "        else:\n",
    "            self.embedding = nn.Embedding(vocab_size, embedding_size)\n",
    "            \n",
    "        self.word_gru = nn.GRU(input_size=embedding_size, hidden_size=gru_size, \n",
    "                                num_layers=1, bidirectional=True, batch_first=True)\n",
    "        self.word_context = nn.Parameter(torch.Tensor(2*gru_size, 1), requires_grad=True)\n",
    "        self.word_dense = nn.Linear(2*gru_size, 2*gru_size)\n",
    "\n",
    "        self.sentence_gru = nn.GRU(input_size=2*gru_size, hidden_size=gru_size, \n",
    "                                num_layers=1, bidirectional=True, batch_first=True)\n",
    "        self.sentence_context = nn.Parameter(torch.Tensor(2*gru_size, 1), requires_grad=True)\n",
    "        self.sentence_dense = nn.Linear(2*gru_size, 2*gru_size)\n",
    "        \n",
    "        self.fc = nn.Linear(2*gru_size, class_num)\n",
    "        \n",
    "    # x:[64, 50, 100]\n",
    "    def forward(self, x, gpu=False):\n",
    "        sentence_num = x.shape[1] # 50\n",
    "        sentence_length = x.shape[2]  # 100\n",
    "        x = x.view([-1, sentence_length]) # x: 64, 50, 100 -> 3200 * 100\n",
    "        x_embedding = self.embedding(x) # 3200, 100, 200 \n",
    "        word_outputs, word_hidden = self.word_gru(x_embedding) # word_outputs: 3200, 100, 2*50\n",
    "        word_outputs_attention = torch.tanh(self.word_dense(word_outputs)) # 3200, 100, 100\n",
    "        \n",
    "        weights = torch.matmul(word_outputs_attention, self.word_context) # 3200, 100, 1\n",
    "        weights = F.softmax(weights, dim=1) # 3200, 100, 1\n",
    "        x = x.unsqueeze(2) # 3200, 100, 1\n",
    "        \n",
    "        if gpu:\n",
    "            weights = torch.where(x!=0, weights, torch.full_like(x, 0, dtype=torch.float).cuda())\n",
    "        else:\n",
    "            weights = torch.where(x!=0, weights, torch.full_like(x, 0, dtype=torch.float)) # 3200, 100, 1\n",
    "        weights = weights / (torch.sum(weights, dim=1).unsqueeze(1) + 1e-4) # 3200, 100, 1\n",
    "        \n",
    "        # 3200,100,100*3200,100,1->3200,100-> 64, 50, 100\n",
    "        sentence_vector = torch.sum(word_outputs * weights, dim=1). \\\n",
    "                view([-1, sentence_num, word_outputs.shape[-1]]) \n",
    "        # sentence_outputs: 64, 50, 100\n",
    "        sentence_outputs, sentence_hidden = self.sentence_gru(sentence_vector)\n",
    "        # 64, 50, 100\n",
    "        attention_sentence_outputs = torch.tanh(self.sentence_dense(sentence_outputs)) \n",
    "        # 64, 50, 100 * 100, 1 = 64, 50, 1\n",
    "        weights = torch.matmul(attention_sentence_outputs, self.sentence_context) \n",
    "        weights = F.softmax(weights, dim=1) # 64, 50, 1\n",
    "        x = x.view(-1, sentence_num, x.shape[1]) # 64, 50, 100 \n",
    "        x = torch.sum(x, dim=2).unsqueeze(2) # 64, 50, 1\n",
    "        \n",
    "        if gpu:\n",
    "            weights = torch.where(x!=0, weights, torch.full_like(x, 0, dtype=torch.float).cuda())\n",
    "        else:\n",
    "            weights = torch.where(x!=0, weights, torch.full_like(x, 0, dtype=torch.float))  # 64, 50, 1\n",
    "        weights = weights / (torch.sum(weights, dim=1).unsqueeze(1) + 1e-4) # 64, 50, 1\n",
    "        document_vector = torch.sum(sentence_outputs * weights, dim=1) # 64, 100\n",
    "        output = self.fc(document_vector) # 64, 4\n",
    "        return output"
   ]
  },
  {
   "cell_type": "code",
   "execution_count": 62,
   "metadata": {},
   "outputs": [
    {
     "name": "stdout",
     "output_type": "stream",
     "text": [
      "torch.Size([64, 4])\n"
     ]
    }
   ],
   "source": [
    "han_model = HAN_Model()\n",
    "x = torch.Tensor(np.zeros([64, 50, 100])).long()\n",
    "x[0][0][0:10] = 1\n",
    "output = han_model(x)\n",
    "print (output.shape)"
   ]
  },
  {
   "cell_type": "code",
   "execution_count": null,
   "metadata": {},
   "outputs": [],
   "source": []
  }
 ],
 "metadata": {
  "kernelspec": {
   "display_name": "Python 3.7.4 64-bit ('base': conda)",
   "language": "python",
   "name": "python37464bitbasecondac1ed852f726f46e99aa9eda212d43d36"
  },
  "language_info": {
   "codemirror_mode": {
    "name": "ipython",
    "version": 3
   },
   "file_extension": ".py",
   "mimetype": "text/x-python",
   "name": "python",
   "nbconvert_exporter": "python",
   "pygments_lexer": "ipython3",
   "version": "3.7.4"
  }
 },
 "nbformat": 4,
 "nbformat_minor": 2
}
