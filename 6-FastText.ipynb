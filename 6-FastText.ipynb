{
 "cells": [
  {
   "cell_type": "code",
   "execution_count": 1,
   "metadata": {},
   "outputs": [],
   "source": [
    "import torch\n",
    "import torch.nn as nn\n",
    "import numpy as np"
   ]
  },
  {
   "cell_type": "code",
   "execution_count": 2,
   "metadata": {},
   "outputs": [],
   "source": [
    "class Fasttext(nn.Module):\n",
    "    def __init__(self, vocab_size, embedding_size, max_length, label_num):\n",
    "        super(Fasttext,self).__init__()\n",
    "        self.embedding =nn.Embedding(vocab_size, embedding_size)  \n",
    "        self.avg_pool = nn.AvgPool1d(kernel_size=max_length, stride=1) \n",
    "        self.fc = nn.Linear(embedding_size, label_num) \n",
    "        \n",
    "    def forward(self, x):\n",
    "        x = x.long()\n",
    "        out = self.embedding(x)  # b, length, embed_size\n",
    "        out = out.transpose(1, 2).contiguous() # b, embed_size, length\n",
    "        out = self.avg_pool(out).squeeze()  # b, embed_size\n",
    "        out = self.fc(out)   # b, label_num\n",
    "        return out"
   ]
  },
  {
   "cell_type": "code",
   "execution_count": 3,
   "metadata": {},
   "outputs": [],
   "source": [
    "fasttext = Fasttext(vocab_size=1000,embedding_size=10,max_length=100,label_num=4)\n",
    "test = torch.zeros([64,100]).long()\n",
    "out = fasttext(test)"
   ]
  },
  {
   "cell_type": "code",
   "execution_count": 4,
   "metadata": {},
   "outputs": [
    {
     "data": {
      "text/plain": [
       "torch.Size([64, 4])"
      ]
     },
     "execution_count": 4,
     "metadata": {},
     "output_type": "execute_result"
    }
   ],
   "source": [
    "out.shape"
   ]
  }
 ],
 "metadata": {
  "kernelspec": {
   "display_name": "Python 3.7.4 64-bit ('base': conda)",
   "language": "python",
   "name": "python37464bitbasecondac1ed852f726f46e99aa9eda212d43d36"
  },
  "language_info": {
   "codemirror_mode": {
    "name": "ipython",
    "version": 3
   },
   "file_extension": ".py",
   "mimetype": "text/x-python",
   "name": "python",
   "nbconvert_exporter": "python",
   "pygments_lexer": "ipython3",
   "version": "3.7.4"
  }
 },
 "nbformat": 4,
 "nbformat_minor": 2
}
