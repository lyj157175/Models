{
 "cells": [
  {
   "cell_type": "code",
   "execution_count": 17,
   "metadata": {},
   "outputs": [],
   "source": [
    "import torch\n",
    "import torch.nn as nn\n",
    "import numpy as np"
   ]
  },
  {
   "cell_type": "code",
   "execution_count": 42,
   "metadata": {},
   "outputs": [],
   "source": [
    "class CharTextCNN(nn.Module):\n",
    "    def __init__(self, config):\n",
    "        super(CharTextCNN, self).__init__()\n",
    "        in_features = [config.char_num] + config.features[0:-1]   # [70,256,256,256,256,256]\n",
    "        out_features = config.features    # [256,256,256,256,256,256]\n",
    "        kernel_size = config.kernel_sizes   # [7,7,3,3,3,3]\n",
    "        self.convs = []\n",
    "        \n",
    "        self.conv1 = nn.Sequential(\n",
    "            nn.Conv1d(in_features[0], out_features[0], kernel_size=kernel_size[0], stride=1),\n",
    "            nn.BatchNorm1d(out_features[0]),\n",
    "            nn.ReLU(),\n",
    "            nn.MaxPool1d(kernel_size=3, stride=3)\n",
    "        )\n",
    "        self.conv2 = nn.Sequential(\n",
    "            nn.Conv1d(in_features[1], out_features[1], kernel_size=kernel_size[1], stride=1),\n",
    "            nn.BatchNorm1d(out_features[1]),\n",
    "            nn.ReLU(),\n",
    "            nn.MaxPool1d(kernel_size=3, stride=3)\n",
    "        )\n",
    "        self.conv3 = nn.Sequential(\n",
    "            nn.Conv1d(in_features[2], out_features[2], kernel_size=kernel_size[2], stride=1),\n",
    "            nn.BatchNorm1d(out_features[2]),\n",
    "            nn.ReLU()\n",
    "        )\n",
    "        self.conv4 = nn.Sequential(\n",
    "            nn.Conv1d(in_features[3], out_features[3], kernel_size=kernel_size[3], stride=1),\n",
    "            nn.BatchNorm1d(out_features[3]),\n",
    "            nn.ReLU()\n",
    "        )\n",
    "        self.conv5 = nn.Sequential(\n",
    "            nn.Conv1d(in_features[4], out_features[4], kernel_size=kernel_size[4], stride=1),\n",
    "            nn.BatchNorm1d(out_features[4]),\n",
    "            nn.ReLU()\n",
    "        )\n",
    "        self.conv6 = nn.Sequential(\n",
    "            nn.Conv1d(in_features[5], out_features[5], kernel_size=kernel_size[5], stride=1),\n",
    "            nn.BatchNorm1d(out_features[5]),\n",
    "            nn.ReLU(),\n",
    "            nn.MaxPool1d(kernel_size=3, stride=3)\n",
    "        )\n",
    "        \n",
    "        self.fc1 = nn.Sequential(\n",
    "            nn.Linear(8704, 1024),\n",
    "            nn.ReLU(),\n",
    "            nn.Dropout(p=config.dropout)\n",
    "        )\n",
    "        self.fc2 = nn.Sequential(\n",
    "            nn.Linear(1024, 1024),\n",
    "            nn.ReLU(),\n",
    "            nn.Dropout(p=config.dropout)\n",
    "        )\n",
    "        self.fc3 = nn.Linear(1024, config.num_classes)  \n",
    "        \n",
    "    \n",
    "    def forward(self, x):\n",
    "        x = self.conv1(x)  # 64, 256, 1014-7+1=1008-3/3+1=336\n",
    "#         print(x.shape)\n",
    "        x = self.conv2(x)  # 64, 256, 110\n",
    "#         print(x.shape)\n",
    "        x = self.conv3(x)  # 64, 256, 108\n",
    "#         print(x.shape)\n",
    "        x = self.conv4(x)  # 64, 256, 106\n",
    "#         print(x.shape)\n",
    "        x = self.conv5(x)  # 64, 256, 106\n",
    "#         print(x.shape)\n",
    "        x = self.conv6(x)  # 64, 256, 34\n",
    "#         print(x.shape)\n",
    "\n",
    "        x = x.view(x.size(0), -1) # 64, 8704\n",
    "        x = self.fc1(x)  # 64, 1024\n",
    "        x = self.fc2(x)  # 64, 1024\n",
    "        x = self.fc3(x)  # 64, 4\n",
    "        return x\n",
    "        "
   ]
  },
  {
   "cell_type": "code",
   "execution_count": 43,
   "metadata": {},
   "outputs": [],
   "source": [
    "class config:\n",
    "    def __init__(self):\n",
    "        self.char_num = 70  # 字符的个数\n",
    "        self.features = [256,256,256,256,256,256] # 每一层特征个数\n",
    "        self.kernel_sizes = [7,7,3,3,3,3] # 每一层的卷积核尺寸\n",
    "        self.dropout = 0.5 # dropout大小\n",
    "        self.num_classes = 4 # 数据的类别个数"
   ]
  },
  {
   "cell_type": "code",
   "execution_count": 44,
   "metadata": {},
   "outputs": [
    {
     "name": "stdout",
     "output_type": "stream",
     "text": [
      "torch.Size([64, 256, 336])\n",
      "torch.Size([64, 256, 110])\n",
      "torch.Size([64, 256, 108])\n",
      "torch.Size([64, 256, 106])\n",
      "torch.Size([64, 256, 104])\n",
      "torch.Size([64, 256, 34])\n",
      "torch.Size([64, 8704])\n",
      "torch.Size([64, 1024])\n",
      "torch.Size([64, 1024])\n",
      "torch.Size([64, 4])\n"
     ]
    }
   ],
   "source": [
    "config = config()\n",
    "chartextcnn = CharTextCNN(config)\n",
    "test = torch.zeros([64,70,1014])\n",
    "out = chartextcnn(test)"
   ]
  },
  {
   "cell_type": "code",
   "execution_count": 45,
   "metadata": {},
   "outputs": [
    {
     "data": {
      "text/plain": [
       "torch.Size([64, 4])"
      ]
     },
     "execution_count": 45,
     "metadata": {},
     "output_type": "execute_result"
    }
   ],
   "source": [
    "out.shape"
   ]
  },
  {
   "cell_type": "code",
   "execution_count": null,
   "metadata": {},
   "outputs": [],
   "source": []
  }
 ],
 "metadata": {
  "kernelspec": {
   "display_name": "Python 3.7.4 64-bit ('base': conda)",
   "language": "python",
   "name": "python37464bitbasecondac1ed852f726f46e99aa9eda212d43d36"
  },
  "language_info": {
   "codemirror_mode": {
    "name": "ipython",
    "version": 3
   },
   "file_extension": ".py",
   "mimetype": "text/x-python",
   "name": "python",
   "nbconvert_exporter": "python",
   "pygments_lexer": "ipython3",
   "version": "3.7.4"
  }
 },
 "nbformat": 4,
 "nbformat_minor": 2
}
