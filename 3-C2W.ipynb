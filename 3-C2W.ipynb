{
 "cells": [
  {
   "cell_type": "code",
   "execution_count": 1,
   "metadata": {},
   "outputs": [],
   "source": [
    "import torch\n",
    "import torch.nn as nn\n",
    "import numpy as np"
   ]
  },
  {
   "cell_type": "code",
   "execution_count": 2,
   "metadata": {},
   "outputs": [],
   "source": [
    "class C2W(nn.Module):\n",
    "    def __init__(self, char_hidden_size, char_embed_size, word_embed_size, \n",
    "                 lm_hidden_size, n_chars, max_length, max_sentence_length, vocab_size):\n",
    "        super(C2W. self).__init__()\n",
    "        self.char_hidden_size = char_hidden_size\n",
    "        self.word_embed_size = word_embed_size\n",
    "        self.lm_hidden_size = lm_hidden_size\n",
    "        self.n_chars = n_chars\n",
    "        self.max_length = max_length\n",
    "        self.sentence_length = sentence_lenth\n",
    "        \n",
    "        self.char_embed = nn.Embedding(n_chars, char_embed_size)\n",
    "        self.char_lstm = nn.LSTM(char_embed_size, char_hidden_size, bidirectional=True, batch_first=True)\n",
    "        self.lm_lstm = nn.LSTM(word_embed_size, lm_hidden_size, batch_first=True)\n",
    "        self.fc1 = nn.Linear(2*char_hidden_size, word_embed_size)\n",
    "        self.fc2 = nn.Linear(lm_hidden_size, vocab_size)\n",
    "    \n",
    "    def forward(self, x):\n",
    "        x = torch.LongTensor(x)\n",
    "        x = self.char_embed(x)\n",
    "        char_lstm = self.char_lstm(x)  # out: [b, seq_len, hidden*2]\n",
    "        word_input = torch.cat([char_lstm[0][:-1,0:char_hidden_size], char_lstm[0][:,0,char_hidden_size:]], dim=1)\n",
    "        word_input = self.fc1(word_input)  # b, word_embed_size\n",
    "        word_input = word_input.view(-1, self.sentense_length, word_embed_size)\n",
    "        lm_lstm = self.lm_lstm(word_input)[0].contiguous() # b, seq_len, lm_hidden_size\n",
    "        lm_lstm = lm_lstm.view(-1, lm_hidden_size)\n",
    "        out = self.fc2(lm_lstm)\n",
    "        return out \n",
    "        "
   ]
  },
  {
   "cell_type": "code",
   "execution_count": null,
   "metadata": {},
   "outputs": [],
   "source": []
  }
 ],
 "metadata": {
  "kernelspec": {
   "display_name": "Python 3.7.4 64-bit ('base': conda)",
   "language": "python",
   "name": "python37464bitbasecondac1ed852f726f46e99aa9eda212d43d36"
  },
  "language_info": {
   "codemirror_mode": {
    "name": "ipython",
    "version": 3
   },
   "file_extension": ".py",
   "mimetype": "text/x-python",
   "name": "python",
   "nbconvert_exporter": "python",
   "pygments_lexer": "ipython3",
   "version": "3.7.4"
  }
 },
 "nbformat": 4,
 "nbformat_minor": 2
}
