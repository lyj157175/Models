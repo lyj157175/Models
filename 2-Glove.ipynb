{
 "cells": [
  {
   "cell_type": "code",
   "execution_count": 1,
   "metadata": {},
   "outputs": [],
   "source": [
    "import torch \n",
    "import torch.nn as nn"
   ]
  },
  {
   "cell_type": "code",
   "execution_count": 2,
   "metadata": {},
   "outputs": [],
   "source": [
    "class Glove(nn.Module):\n",
    "    def __init__(self, vocab_size, embed_size, x_max, alpha):\n",
    "        super(Glove, self).__init__()\n",
    "        self.vocab_size = vocab_size\n",
    "        self.embed_size = embed_size\n",
    "        self.x_max = x_max\n",
    "        self.alpha = alpha\n",
    "        \n",
    "        self.w_embed = nn.Embedding(self.vocab_size, self.embed_size).type(torch.float64)\n",
    "        self.w_bias = nn.Embedding(self.vocab_size, 1).type(torch.float64)\n",
    "        self.v_embed = nn.Embedding(self.vocab_size, self.embed_size).type(torch.float64)\n",
    "        self.v_bias = nn.Embedding(self.vocab_size, 1).type(torch.float64)\n",
    "        \n",
    "    def forward(self, w_data, v_data, labels):\n",
    "        w_data_embed = self.w_embed(w_data)\n",
    "        w_data_bias = self.w_bias(w_data)\n",
    "        v_data_embed = self.v_embed(v_data)\n",
    "        v_data_bias = self.v_bias(v_data)\n",
    "        \n",
    "        weights = torch.pow(labels / self.x_max, self.alpha)\n",
    "        weights[weights>1] = 1\n",
    "        loss = torch.mean(weights * torch.pow(torch.sum(w_data_embed * v_data_embed, 1) +\n",
    "                                              w_data_bias + v_data_bias - torch.log(labels), 2))\n",
    "        return loss\n",
    "    \n",
    "    def save_embedding(self, word2idx, file_name):\n",
    "        embedding_1 = self.w_embed.weight.data.cpu().numpy()\n",
    "        embedding_2 = self.v_embed.weight.data.cpu().numpy()\n",
    "        embedding = (embedding_1 + embedding_2) / 2\n",
    "        fout = open(file_name, 'w')\n",
    "        fout.write('%d %d\\n' % (len(word2idx), self.embed_size))\n",
    "        for w, wid in word2idx.items():\n",
    "            e = embedding[wid]\n",
    "            e = ' '.join(map(lambda x: str(x), e))\n",
    "            fout.write('%s %s\\n' % (w, e))"
   ]
  },
  {
   "cell_type": "code",
   "execution_count": null,
   "metadata": {},
   "outputs": [],
   "source": []
  }
 ],
 "metadata": {
  "kernelspec": {
   "display_name": "Python 3.7.4 64-bit ('base': conda)",
   "language": "python",
   "name": "python37464bitbasecondac1ed852f726f46e99aa9eda212d43d36"
  },
  "language_info": {
   "codemirror_mode": {
    "name": "ipython",
    "version": 3
   },
   "file_extension": ".py",
   "mimetype": "text/x-python",
   "name": "python",
   "nbconvert_exporter": "python",
   "pygments_lexer": "ipython3",
   "version": "3.7.4"
  }
 },
 "nbformat": 4,
 "nbformat_minor": 2
}
