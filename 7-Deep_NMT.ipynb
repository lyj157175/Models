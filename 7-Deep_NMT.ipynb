{
 "cells": [
  {
   "cell_type": "code",
   "execution_count": 3,
   "metadata": {},
   "outputs": [],
   "source": [
    "import torch\n",
    "import torch.nn as nn\n",
    "import numpy as np"
   ]
  },
  {
   "cell_type": "code",
   "execution_count": 4,
   "metadata": {},
   "outputs": [],
   "source": [
    "class Deep_NMT(nn.Module):\n",
    "    def __init__(self, source_vocab_size=3000, target_vocab_size=3000, \n",
    "                 embedding_size=32, source_length=100, target_length=100, lstm_size=128):\n",
    "        super(Deep_NMT,self).__init__()\n",
    "        self.source_embedding = nn.Embedding(source_vocab_size, embedding_size)\n",
    "        self.target_embedding = nn.Embedding(target_vocab_size, embedding_size)\n",
    "        self.encoder = nn.LSTM(input_size=embedding_size, hidden_size=lstm_size, num_layers=4, batch_first=True) \n",
    "        self.decoder = nn.LSTM(input_size=embedding_size, hidden_size=lstm_size, num_layers=4, batch_first=True)\n",
    "        self.fc = nn.Linear(lstm_size, target_vocab_size)\n",
    "        \n",
    "        \n",
    "    def forward(self, source_data, target_data, mode = \"train\"):\n",
    "        source_data_embedding = self.source_embedding(source_data) # 64, 100, 32\n",
    "        enc_output, enc_hidden = self.encoder(source_data_embedding)  # 64, 100, 128 \\ 4, 64, 128\n",
    "        # enc_output: b * length * lstm_size 只返回最高层的所有hidden\n",
    "        # enc_hidden：[[h1,h2,h3,h4],[c1,c2,c3,c4]] 返回每层最后一个时间步的h和c\n",
    "        \n",
    "        if mode==\"train\":\n",
    "            target_data_embedding = self.target_embedding(target_data) # 64, 100, 32\n",
    "            dec_output, dec_hidden = self.decoder(target_data_embedding, enc_hidden)  # 64, 100, 128 \\ 4, 64, 128\n",
    "            outs = self.fc(dec_output) # 64, 100, 3000\n",
    "        else:\n",
    "            target_data_embedding = self.target_embedding(target_data) # 64, 1, 32\n",
    "            dec_prev_hidden = enc_hidden # 64, 100, 128 \\ 4, 64, 128\n",
    "            outs = []\n",
    "            for i in range(100):\n",
    "                dec_output, dec_hidden = self.decoder(target_data_embedding, dec_prev_hidden) # 64, 1, 128 / 4, 64, 128\n",
    "                pred = self.fc(dec_output)        # 64, 1, 3000\n",
    "                pred = torch.argmax(pred, dim=-1)  # 64, 1\n",
    "                outs.append(pred.squeeze().cpu().numpy()) # 64, 100\n",
    "                dec_prev_hidden = dec_hidden \n",
    "                target_data_embedding = self.target_embedding(pred) # 64, 1, 32\n",
    "        return outs"
   ]
  },
  {
   "cell_type": "code",
   "execution_count": 5,
   "metadata": {},
   "outputs": [
    {
     "name": "stdout",
     "output_type": "stream",
     "text": [
      "torch.Size([64, 100, 3000])\n",
      "(100, 64)\n"
     ]
    }
   ],
   "source": [
    "model = Deep_NMT()\n",
    "source_data = torch.Tensor(np.zeros([64,100])).long()\n",
    "target_data = torch.Tensor(np.zeros([64,100])).long()\n",
    "train_preds = model(source_data, target_data, mode='train')\n",
    "print (train_preds.shape)\n",
    "\n",
    "target_data = torch.Tensor(np.zeros([64, 1])).long()\n",
    "test_preds = model(source_data, target_data, mode=\"test\")\n",
    "print(np.array(test_preds).shape)"
   ]
  },
  {
   "cell_type": "code",
   "execution_count": null,
   "metadata": {},
   "outputs": [],
   "source": []
  },
  {
   "cell_type": "code",
   "execution_count": null,
   "metadata": {},
   "outputs": [],
   "source": []
  }
 ],
 "metadata": {
  "kernelspec": {
   "display_name": "Python 3.7.4 64-bit ('base': conda)",
   "language": "python",
   "name": "python37464bitbasecondac1ed852f726f46e99aa9eda212d43d36"
  },
  "language_info": {
   "codemirror_mode": {
    "name": "ipython",
    "version": 3
   },
   "file_extension": ".py",
   "mimetype": "text/x-python",
   "name": "python",
   "nbconvert_exporter": "python",
   "pygments_lexer": "ipython3",
   "version": "3.7.4"
  }
 },
 "nbformat": 4,
 "nbformat_minor": 2
}
